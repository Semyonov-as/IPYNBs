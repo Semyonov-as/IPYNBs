{
 "cells": [
  {
   "cell_type": "markdown",
   "metadata": {},
   "source": [
    "# Аналитическое решение"
   ]
  },
  {
   "cell_type": "code",
   "execution_count": 1,
   "metadata": {},
   "outputs": [
    {
     "data": {
      "text/plain": [
       "[-0.4161468365471424,\n",
       " -0.32328956686350335,\n",
       " -0.2272020946930871,\n",
       " -0.12884449429552464,\n",
       " -0.029199522301288815,\n",
       " 0.0707372016677029,\n",
       " 0.16996714290024104,\n",
       " 0.26749882862458757,\n",
       " 0.3623577544766736,\n",
       " 0.4535961214255773,\n",
       " 0.5403023058681398]"
      ]
     },
     "execution_count": 1,
     "metadata": {},
     "output_type": "execute_result"
    }
   ],
   "source": [
    "import math as m\n",
    "import numpy as np\n",
    "import matplotlib.pyplot as plt\n",
    "\n",
    "def Analytycal (x, t):\n",
    "    return m.cos(2*t - x)\n",
    "\n",
    "check1 = [Analytycal(0.1*i, 1) for i in range(0, 11)]\n",
    "check1"
   ]
  },
  {
   "cell_type": "code",
   "execution_count": 2,
   "metadata": {},
   "outputs": [
    {
     "data": {
      "text/plain": [
       "[<matplotlib.lines.Line2D at 0xbc09230>]"
      ]
     },
     "execution_count": 2,
     "metadata": {},
     "output_type": "execute_result"
    },
    {
     "data": {
      "image/png": "[encoded data removed]",
      "text/plain": [
       "<Figure size 432x288 with 1 Axes>"
      ]
     },
     "metadata": {
      "needs_background": "light"
     },
     "output_type": "display_data"
    }
   ],
   "source": [
    "plt.plot(check1)"
   ]
  },
  {
   "cell_type": "markdown",
   "metadata": {},
   "source": [
    "# Вычисления для спектральной устойчивости\n"
   ]
  },
  {
   "cell_type": "code",
   "execution_count": 3,
   "metadata": {},
   "outputs": [
    {
     "data": {
      "text/latex": [
       "$x \\mapsto \\text{1.0} - \\text{66.0}\\,x + \\text{4166.0}\\,x^{2} - \\text{1682.6666666666667}\\,x^{3} + \\text{1656.0}\\,x^{4} - \\text{319.99999999999994}\\,x^{5} + \\text{163.55555555555554}\\,x^{6}$"
      ],
      "text/plain": [
       "Polynomial([ 1.00000000e+00, -6.60000000e+01,  4.16600000e+03, -1.68266667e+03,\n",
       "        1.65600000e+03, -3.20000000e+02,  1.63555556e+02], domain=[-1.,  1.], window=[-1.,  1.])"
      ]
     },
     "execution_count": 3,
     "metadata": {},
     "output_type": "execute_result"
    }
   ],
   "source": [
    "from numpy.polynomial import Polynomial as P\n",
    "\n",
    "A = P([1, -33, 4, -4/3])\n",
    "B = P([0, 48, -10, 12])\n",
    "C = P([0, -27, 8, -4])\n",
    "D = P([0, 6, -2, 4/3])\n",
    "\n",
    "c0 = A*A + B*B + C*C + D*D\n",
    "c0"
   ]
  },
  {
   "cell_type": "code",
   "execution_count": 4,
   "metadata": {},
   "outputs": [
    {
     "data": {
      "text/latex": [
       "$x \\mapsto \\color{LightGray}{\\text{0.0}} + \\text{48.0}\\,x - \\text{3052.0}\\,x^{2} + \\text{1290.0}\\,x^{3} - \\text{1172.0}\\,x^{4} + \\text{215.99999999999997}\\,x^{5} - \\text{69.33333333333333}\\,x^{6}$"
      ],
      "text/plain": [
       "Polynomial([    0.        ,    48.        , -3052.        ,  1290.        ,\n",
       "       -1172.        ,   216.        ,   -69.33333333], domain=[-1.,  1.], window=[-1.,  1.])"
      ]
     },
     "execution_count": 4,
     "metadata": {},
     "output_type": "execute_result"
    }
   ],
   "source": [
    "c1 = A*B + B*C + C*D\n",
    "c1"
   ]
  },
  {
   "cell_type": "code",
   "execution_count": 5,
   "metadata": {},
   "outputs": [
    {
     "data": {
      "text/latex": [
       "$x \\mapsto \\color{LightGray}{\\text{0.0}} - \\text{27.0}\\,x + \\text{1187.0}\\,x^{2} - \\text{532.0}\\,x^{3} + \\text{356.0}\\,x^{4} - \\text{63.99999999999999}\\,x^{5} + \\text{21.333333333333332}\\,x^{6}$"
      ],
      "text/plain": [
       "Polynomial([   0.        ,  -27.        , 1187.        , -532.        ,\n",
       "        356.        ,  -64.        ,   21.33333333], domain=[-1.,  1.], window=[-1.,  1.])"
      ]
     },
     "execution_count": 5,
     "metadata": {},
     "output_type": "execute_result"
    }
   ],
   "source": [
    "c2 = A*C + B*D\n",
    "c2"
   ]
  },
  {
   "cell_type": "code",
   "execution_count": 6,
   "metadata": {},
   "outputs": [
    {
     "data": {
      "text/latex": [
       "$x \\mapsto \\color{LightGray}{\\text{0.0}} + \\text{6.0}\\,x - \\text{200.0}\\,x^{2} + \\text{91.33333333333333}\\,x^{3} - \\text{60.0}\\,x^{4} + \\text{8.0}\\,x^{5} - \\text{1.7777777777777777}\\,x^{6}$"
      ],
      "text/plain": [
       "Polynomial([   0.        ,    6.        , -200.        ,   91.33333333,\n",
       "        -60.        ,    8.        ,   -1.77777778], domain=[-1.,  1.], window=[-1.,  1.])"
      ]
     },
     "execution_count": 6,
     "metadata": {},
     "output_type": "execute_result"
    }
   ],
   "source": [
    "c3 = A*D\n",
    "c3"
   ]
  },
  {
   "cell_type": "code",
   "execution_count": 7,
   "metadata": {},
   "outputs": [],
   "source": [
    "#c0 + c1*cos + c2*cos2 + c3*cos3"
   ]
  },
  {
   "cell_type": "markdown",
   "metadata": {},
   "source": [
    "# Численное решение"
   ]
  },
  {
   "cell_type": "code",
   "execution_count": 32,
   "metadata": {},
   "outputs": [],
   "source": [
    "\n",
    "K = 0.5 #число Куранта\n",
    "L = 41\n",
    "N = int(round(L/K))\n",
    "t = 1/N\n",
    "h = 1/L\n",
    "\n",
    "U = np.matrix(np.zeros((N+1, L+1)))\n",
    "\n",
    "def col_1 (n):\n",
    "    return m.cos(2*n*t)\n",
    "def col_2 (n):\n",
    "    return m.cos(2*n*t) + m.sin(2*n*t)*h - m.cos(2*n*t)*h*h/2 - m.sin(2*n*t)*h**3/6\n",
    "def col_3 (n):\n",
    "    return m.cos(2*n*t) + m.sin(2*n*t)*2*h - m.cos(2*n*t)*h*h*2 - m.sin(2*n*t)*h**3*4/3\n",
    "\n",
    "def row_1 (l):\n",
    "    return m.cos(l*h)\n",
    "\n",
    "for i in range(0, N+1) :\n",
    "    U[i, 0] = col_1(i)\n",
    "    U[i, 1] = col_2(i)\n",
    "    U[i, 2] = col_3(i)\n",
    "    \n",
    "    \n",
    "for i in range(0, L+1) :\n",
    "    U[0, i] = row_1(i)\n",
    "    "
   ]
  },
  {
   "cell_type": "code",
   "execution_count": 33,
   "metadata": {},
   "outputs": [
    {
     "name": "stdout",
     "output_type": "stream",
     "text": [
      "-0.4161468365471424\n",
      "-0.3255965665130075\n",
      "-0.23194978529649113\n",
      "-0.13609702320157585\n",
      "-0.03894989719765452\n",
      "0.058567665572672185\n",
      "0.15552821489208946\n",
      "0.2510095980736082\n",
      "0.3441037301829306\n",
      "0.4339252304680894\n",
      "0.5196198428587682\n"
     ]
    }
   ],
   "source": [
    "for n in range(0, N) :\n",
    "    for l in range(3, L+1) :\n",
    "        U[n+1, l] = (U[n, l] + t/(3*h)*(2*U[n, l-3] - 9*U[n, l-2] + 18*U[n, l-1] - 11*U[n, l]) \n",
    "                          + 2*t**2/h**2*(-U[n, l-3] + 4*U[n, l-2] - 5*U[n, l-1] + 2*U[n, l])\n",
    "                      - 4*t**3/(3*h**3)*(-U[n, l-3] + 3*U[n, l-2] - 3*U[n, l-1] + U[n, l]))\n",
    "        \n",
    "check2 = U.getA()[N][::int(L/10)]\n",
    "\n",
    "for i in range(0, 11):\n",
    "    print(check2[i])"
   ]
  },
  {
   "cell_type": "markdown",
   "metadata": {},
   "source": [
    "# Расхождение численного и аналитического решений"
   ]
  },
  {
   "cell_type": "code",
   "execution_count": 34,
   "metadata": {},
   "outputs": [
    {
     "data": {
      "text/plain": [
       "[<matplotlib.lines.Line2D at 0x1111b50>,\n",
       " <matplotlib.lines.Line2D at 0x1111c30>]"
      ]
     },
     "execution_count": 34,
     "metadata": {},
     "output_type": "execute_result"
    },
    {
     "data": {
      "image/png": "[encoded data removed]",
      "text/plain": [
       "<Figure size 432x288 with 1 Axes>"
      ]
     },
     "metadata": {
      "needs_background": "light"
     },
     "output_type": "display_data"
    }
   ],
   "source": [
    "plt.plot(check2, 'r--', check1, 'go')"
   ]
  },
  {
   "cell_type": "code",
   "execution_count": 35,
   "metadata": {},
   "outputs": [
    {
     "name": "stdout",
     "output_type": "stream",
     "text": [
      "[0.0, 0.002306999649504149, 0.00474769060340402, 0.007252528906051214, 0.009750374896365707, 0.012169536095030721, 0.01443892800815158, 0.016489230550979395, 0.01825402429374301, 0.01967089095748792, 0.0206824630093716]\n",
      "Максимальное расхождение: 0.0206824630093716\n"
     ]
    }
   ],
   "source": [
    "diff = [ abs(check1[i] - check2[i]) for i in range(0, 11) ]\n",
    "print(diff)\n",
    "print('Максимальное расхождение:',max(diff))\n"
   ]
  },
  {
   "cell_type": "code",
   "execution_count": null,
   "metadata": {},
   "outputs": [],
   "source": []
  },
  {
   "cell_type": "code",
   "execution_count": null,
   "metadata": {},
   "outputs": [],
   "source": []
  }
 ],
 "metadata": {
  "kernelspec": {
   "display_name": "Python 3",
   "language": "python",
   "name": "python3"
  },
  "language_info": {
   "codemirror_mode": {
    "name": "ipython",
    "version": 3
   },
   "file_extension": ".py",
   "mimetype": "text/x-python",
   "name": "python",
   "nbconvert_exporter": "python",
   "pygments_lexer": "ipython3",
   "version": "3.7.3"
  }
 },
 "nbformat": 4,
 "nbformat_minor": 2
}
