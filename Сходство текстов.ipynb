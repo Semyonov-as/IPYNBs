{
 "cells": [
  {
   "cell_type": "code",
   "execution_count": 75,
   "metadata": {},
   "outputs": [],
   "source": [
    "import numpy as np\n",
    "from scipy import spatial\n",
    "import operator\n",
    "import re"
   ]
  },
  {
   "cell_type": "code",
   "execution_count": 34,
   "metadata": {
    "scrolled": true
   },
   "outputs": [],
   "source": [
    "with open(\"тексты.txt\", 'r') as file:\n",
    "    text_input = file.read()\n",
    "    \n",
    "#text_input.lower().split()"
   ]
  },
  {
   "cell_type": "code",
   "execution_count": 89,
   "metadata": {},
   "outputs": [
    {
     "data": {
      "text/plain": [
       "[('in comparison to dogs, cats have not undergone major changes during the domestication process.\\nas cat simply catenates streams of bytes, it can be also used to concatenate binary files, where it will just concatenate sequence of bytes.\\na common interactive use of cat for a single file is to output the content of a file to standard output.\\ncats can hear sounds too faint or too high in frequency for human ears, such as those made by mice and other small animals.\\nin one, people deliberately tamed cats in a process of artificial selection, as they were useful predators of vermin.\\nthe domesticated cat and its closest wild ancestor are both diploid organisms that possess 38 chromosomes and roughly 20,000 genes.\\ndomestic cats are similar in size to the other members of the genus felis, typically weighing between 4 and 5 kg (8.8 and 11.0 lb).\\nhowever, if the output is piped or redirected, cat is unnecessary.\\ncat with one named file is safer where human error is a concern - one wrong use of the default redirection symbol \">\" instead of \"<\" (often adjacent on keyboards) may permanently delete the file you were just needing to read.\\nin terms of legibility, a sequence of commands starting with cat and connected by pipes has a clear left-to-right flow of information.\\ncat command is one of the basic commands that you learned when you started in the unix / linux world.\\nusing cat command, the lines received from stdin can be redirected to a new file using redirection symbols.\\nwhen you type simply cat command without any arguments, it just receives the stdin content and displays it in the stdout.\\nleopard was released on october 26, 2007 as the successor of tiger (version 10.4), and is available in two editions.\\naccording to apple, leopard contains over 300 changes and enhancements over its predecessor, mac os x tiger.\\nas of mid 2010, some apple computers have firmware factory installed which will no longer allow installation of mac os x leopard.\\nsince apple moved to using intel processors in their computers, the osx86 community has developed and now also allows mac os x tiger and later releases to be installed on non-apple x86-based computers.\\nos x mountain lion was released on july 25, 2012 for purchase and download through apple\\'s mac app store, as part of a switch to releasing os x versions online and every year.\\napple has released a small patch for the three most recent versions of safari running on os x yosemite, mavericks, and mountain lion.\\nthe mountain lion release marks the second time apple has offered an incremental upgrade, rather than releasing a new cat entirely.\\nmac os x mountain lion installs in place, so you won\\'t need to create a separate disk or run the installation off an external drive.\\nthe fifth major update to mac os x, leopard, contains such a mountain of features - more than 300 by apple\\'s count.\\n',\n",
       "  0)]"
      ]
     },
     "execution_count": 89,
     "metadata": {},
     "output_type": "execute_result"
    }
   ],
   "source": [
    "text_map = dict()\n",
    "i = 0\n",
    "\n",
    "for word in re.split('^[a-z]', text_input):\n",
    "    c_word = word.strip('!.,-><()\"\"//1234567890').lower()\n",
    "    if c_word:\n",
    "        if text_map.get(c_word, None) == None:\n",
    "            text_map[c_word] = i\n",
    "            i += 1\n",
    "num_words = sorted(text_map.items(),  key=operator.itemgetter(1))  \n",
    "\n",
    "num_words"
   ]
  },
  {
   "cell_type": "code",
   "execution_count": 64,
   "metadata": {},
   "outputs": [],
   "source": [
    "matrix = np.zeros((22, i), dtype = int)\n",
    "\n",
    "with open(\"тексты.txt\", 'r') as file:\n",
    "    lines = file.readlines()\n",
    "\n",
    "k = 0\n",
    "for line in lines:\n",
    "    for word in line.lower().split():\n",
    "        c_word = word.strip('!.,-><()\"\"//1234567890')\n",
    "        if c_word in text_map:\n",
    "            matrix[k][text_map[c_word]] += 1\n",
    "    k += 1\n"
   ]
  },
  {
   "cell_type": "code",
   "execution_count": 72,
   "metadata": {},
   "outputs": [
    {
     "data": {
      "text/plain": [
       "[(0, 0.0),\n",
       " (6, 0.7327387580875756),\n",
       " (4, 0.7770887149698589),\n",
       " (21, 0.8207157085998409),\n",
       " (16, 0.8288158029956348),\n",
       " (10, 0.8328165362273942),\n",
       " (12, 0.8396432548525454),\n",
       " (20, 0.8396432548525454),\n",
       " (2, 0.8644738145642124),\n",
       " (13, 0.8703592552895671),\n",
       " (14, 0.8740118423302576),\n",
       " (11, 0.8804771390665607),\n",
       " (8, 0.8842724875284311),\n",
       " (19, 0.8885443574849294),\n",
       " (3, 0.8951715163278082),\n",
       " (7, 0.9258750683338899),\n",
       " (5, 0.9402385695332803),\n",
       " (15, 0.9442721787424647),\n",
       " (18, 0.9442721787424647),\n",
       " (9, 0.9512049963525734),\n",
       " (1, 0.9527544408738466),\n",
       " (17, 0.9560625224836253)]"
      ]
     },
     "execution_count": 72,
     "metadata": {},
     "output_type": "execute_result"
    }
   ],
   "source": [
    "dist = dict()\n",
    "\n",
    "for i in range(22):\n",
    "    dist[i] = spatial.distance.cosine(matrix[0, :],matrix[i, :])\n",
    "\n",
    "result = sorted(dist.items(), key = operator.itemgetter(1))\n",
    "result"
   ]
  },
  {
   "cell_type": "code",
   "execution_count": 74,
   "metadata": {},
   "outputs": [],
   "source": [
    "with open(\"result.txt\", 'w') as file:\n",
    "    file.write(\"7 5\")"
   ]
  },
  {
   "cell_type": "code",
   "execution_count": null,
   "metadata": {},
   "outputs": [],
   "source": []
  }
 ],
 "metadata": {
  "kernelspec": {
   "display_name": "Python 3",
   "language": "python",
   "name": "python3"
  },
  "language_info": {
   "codemirror_mode": {
    "name": "ipython",
    "version": 3
   },
   "file_extension": ".py",
   "mimetype": "text/x-python",
   "name": "python",
   "nbconvert_exporter": "python",
   "pygments_lexer": "ipython3",
   "version": "3.7.3"
  }
 },
 "nbformat": 4,
 "nbformat_minor": 2
}
