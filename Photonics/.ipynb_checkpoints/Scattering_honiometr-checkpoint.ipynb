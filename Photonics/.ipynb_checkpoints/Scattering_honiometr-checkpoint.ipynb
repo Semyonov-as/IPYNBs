{
 "cells": [
  {
   "cell_type": "code",
   "execution_count": 103,
   "metadata": {},
   "outputs": [
    {
     "name": "stderr",
     "output_type": "stream",
     "text": [
      "c:\\users\\79610\\appdata\\local\\programs\\python\\python37-32\\lib\\site-packages\\ipykernel_launcher.py:7: FutureWarning: read_table is deprecated, use read_csv instead, passing sep='\\t'.\n",
      "  import sys\n"
     ]
    },
    {
     "data": {
      "text/html": [
       "<div>\n",
       "<style scoped>\n",
       "    .dataframe tbody tr th:only-of-type {\n",
       "        vertical-align: middle;\n",
       "    }\n",
       "\n",
       "    .dataframe tbody tr th {\n",
       "        vertical-align: top;\n",
       "    }\n",
       "\n",
       "    .dataframe thead th {\n",
       "        text-align: right;\n",
       "    }\n",
       "</style>\n",
       "<table border=\"1\" class=\"dataframe\">\n",
       "  <thead>\n",
       "    <tr style=\"text-align: right;\">\n",
       "      <th></th>\n",
       "      <th>Angle</th>\n",
       "      <th>R</th>\n",
       "    </tr>\n",
       "  </thead>\n",
       "  <tbody>\n",
       "    <tr>\n",
       "      <th>0</th>\n",
       "      <td>-2.6</td>\n",
       "      <td>2.3500</td>\n",
       "    </tr>\n",
       "    <tr>\n",
       "      <th>1</th>\n",
       "      <td>0.0</td>\n",
       "      <td>2.4000</td>\n",
       "    </tr>\n",
       "    <tr>\n",
       "      <th>2</th>\n",
       "      <td>5.0</td>\n",
       "      <td>2.2700</td>\n",
       "    </tr>\n",
       "    <tr>\n",
       "      <th>3</th>\n",
       "      <td>10.0</td>\n",
       "      <td>1.9700</td>\n",
       "    </tr>\n",
       "    <tr>\n",
       "      <th>4</th>\n",
       "      <td>15.0</td>\n",
       "      <td>1.5500</td>\n",
       "    </tr>\n",
       "    <tr>\n",
       "      <th>5</th>\n",
       "      <td>20.0</td>\n",
       "      <td>1.2500</td>\n",
       "    </tr>\n",
       "    <tr>\n",
       "      <th>6</th>\n",
       "      <td>25.0</td>\n",
       "      <td>0.9850</td>\n",
       "    </tr>\n",
       "    <tr>\n",
       "      <th>7</th>\n",
       "      <td>30.0</td>\n",
       "      <td>0.7830</td>\n",
       "    </tr>\n",
       "    <tr>\n",
       "      <th>8</th>\n",
       "      <td>35.0</td>\n",
       "      <td>0.6620</td>\n",
       "    </tr>\n",
       "    <tr>\n",
       "      <th>9</th>\n",
       "      <td>40.0</td>\n",
       "      <td>0.5480</td>\n",
       "    </tr>\n",
       "    <tr>\n",
       "      <th>10</th>\n",
       "      <td>45.0</td>\n",
       "      <td>0.4680</td>\n",
       "    </tr>\n",
       "    <tr>\n",
       "      <th>11</th>\n",
       "      <td>50.0</td>\n",
       "      <td>0.3940</td>\n",
       "    </tr>\n",
       "    <tr>\n",
       "      <th>12</th>\n",
       "      <td>55.0</td>\n",
       "      <td>0.3440</td>\n",
       "    </tr>\n",
       "    <tr>\n",
       "      <th>13</th>\n",
       "      <td>60.0</td>\n",
       "      <td>0.2880</td>\n",
       "    </tr>\n",
       "    <tr>\n",
       "      <th>14</th>\n",
       "      <td>65.0</td>\n",
       "      <td>0.2390</td>\n",
       "    </tr>\n",
       "    <tr>\n",
       "      <th>15</th>\n",
       "      <td>70.0</td>\n",
       "      <td>0.1860</td>\n",
       "    </tr>\n",
       "    <tr>\n",
       "      <th>16</th>\n",
       "      <td>75.0</td>\n",
       "      <td>0.1370</td>\n",
       "    </tr>\n",
       "    <tr>\n",
       "      <th>17</th>\n",
       "      <td>80.0</td>\n",
       "      <td>0.0860</td>\n",
       "    </tr>\n",
       "    <tr>\n",
       "      <th>18</th>\n",
       "      <td>85.0</td>\n",
       "      <td>0.0433</td>\n",
       "    </tr>\n",
       "    <tr>\n",
       "      <th>19</th>\n",
       "      <td>90.0</td>\n",
       "      <td>0.0470</td>\n",
       "    </tr>\n",
       "    <tr>\n",
       "      <th>20</th>\n",
       "      <td>95.0</td>\n",
       "      <td>0.0942</td>\n",
       "    </tr>\n",
       "    <tr>\n",
       "      <th>21</th>\n",
       "      <td>100.0</td>\n",
       "      <td>0.1430</td>\n",
       "    </tr>\n",
       "    <tr>\n",
       "      <th>22</th>\n",
       "      <td>105.0</td>\n",
       "      <td>0.1910</td>\n",
       "    </tr>\n",
       "    <tr>\n",
       "      <th>23</th>\n",
       "      <td>110.0</td>\n",
       "      <td>0.2330</td>\n",
       "    </tr>\n",
       "    <tr>\n",
       "      <th>24</th>\n",
       "      <td>115.0</td>\n",
       "      <td>0.2670</td>\n",
       "    </tr>\n",
       "    <tr>\n",
       "      <th>25</th>\n",
       "      <td>120.0</td>\n",
       "      <td>0.3040</td>\n",
       "    </tr>\n",
       "    <tr>\n",
       "      <th>26</th>\n",
       "      <td>125.0</td>\n",
       "      <td>0.3320</td>\n",
       "    </tr>\n",
       "    <tr>\n",
       "      <th>27</th>\n",
       "      <td>130.0</td>\n",
       "      <td>0.3620</td>\n",
       "    </tr>\n",
       "    <tr>\n",
       "      <th>28</th>\n",
       "      <td>135.0</td>\n",
       "      <td>0.3840</td>\n",
       "    </tr>\n",
       "    <tr>\n",
       "      <th>29</th>\n",
       "      <td>140.0</td>\n",
       "      <td>0.4000</td>\n",
       "    </tr>\n",
       "    <tr>\n",
       "      <th>30</th>\n",
       "      <td>145.0</td>\n",
       "      <td>0.4130</td>\n",
       "    </tr>\n",
       "    <tr>\n",
       "      <th>31</th>\n",
       "      <td>150.0</td>\n",
       "      <td>0.4380</td>\n",
       "    </tr>\n",
       "    <tr>\n",
       "      <th>32</th>\n",
       "      <td>155.0</td>\n",
       "      <td>0.4560</td>\n",
       "    </tr>\n",
       "    <tr>\n",
       "      <th>33</th>\n",
       "      <td>160.0</td>\n",
       "      <td>0.4880</td>\n",
       "    </tr>\n",
       "    <tr>\n",
       "      <th>34</th>\n",
       "      <td>165.0</td>\n",
       "      <td>0.5050</td>\n",
       "    </tr>\n",
       "    <tr>\n",
       "      <th>35</th>\n",
       "      <td>170.0</td>\n",
       "      <td>0.5560</td>\n",
       "    </tr>\n",
       "  </tbody>\n",
       "</table>\n",
       "</div>"
      ],
      "text/plain": [
       "    Angle       R\n",
       "0    -2.6  2.3500\n",
       "1     0.0  2.4000\n",
       "2     5.0  2.2700\n",
       "3    10.0  1.9700\n",
       "4    15.0  1.5500\n",
       "5    20.0  1.2500\n",
       "6    25.0  0.9850\n",
       "7    30.0  0.7830\n",
       "8    35.0  0.6620\n",
       "9    40.0  0.5480\n",
       "10   45.0  0.4680\n",
       "11   50.0  0.3940\n",
       "12   55.0  0.3440\n",
       "13   60.0  0.2880\n",
       "14   65.0  0.2390\n",
       "15   70.0  0.1860\n",
       "16   75.0  0.1370\n",
       "17   80.0  0.0860\n",
       "18   85.0  0.0433\n",
       "19   90.0  0.0470\n",
       "20   95.0  0.0942\n",
       "21  100.0  0.1430\n",
       "22  105.0  0.1910\n",
       "23  110.0  0.2330\n",
       "24  115.0  0.2670\n",
       "25  120.0  0.3040\n",
       "26  125.0  0.3320\n",
       "27  130.0  0.3620\n",
       "28  135.0  0.3840\n",
       "29  140.0  0.4000\n",
       "30  145.0  0.4130\n",
       "31  150.0  0.4380\n",
       "32  155.0  0.4560\n",
       "33  160.0  0.4880\n",
       "34  165.0  0.5050\n",
       "35  170.0  0.5560"
      ]
     },
     "execution_count": 103,
     "metadata": {},
     "output_type": "execute_result"
    }
   ],
   "source": [
    "import pandas as pd\n",
    "import numpy as np\n",
    "import scipy as sp\n",
    "import matplotlib.pyplot as plt\n",
    "%matplotlib inline\n",
    "\n",
    "data = pd.read_table('data/honiometr.dat')\n",
    "data"
   ]
  },
  {
   "cell_type": "code",
   "execution_count": null,
   "metadata": {},
   "outputs": [],
   "source": []
  },
  {
   "cell_type": "code",
   "execution_count": 104,
   "metadata": {},
   "outputs": [
    {
     "data": {
      "text/plain": [
       "1.0000345927493322"
      ]
     },
     "execution_count": 104,
     "metadata": {},
     "output_type": "execute_result"
    }
   ],
   "source": [
    "angle = list(data['Angle'])\n",
    "R = [x/99.57 for x in data['R']]\n",
    "\n",
    "def interpolate_R(x):\n",
    "    xl = int(x/5)*5 \n",
    "    xr = int(x/5)*5 +5\n",
    "    if (x < 0):\n",
    "        xl = -2.6\n",
    "        xr = 0\n",
    "        \n",
    "    i = angle.index(xl)\n",
    "    return R[i] + (float(R[i+1])-float(R[i]))/(xr-xl)*(x-xl)\n",
    "\n",
    "\n",
    "\n",
    "\n",
    "def integrate_angels(x1, x2):\n",
    "    if(x2 < x1):\n",
    "        return 0\n",
    "    \n",
    "    xl = int(x1/5)*5 +5\n",
    "    i_1 = angle.index(xl)\n",
    "    xr = int(x2/5)*5\n",
    "    i_2 = angle.index(xr)\n",
    "    \n",
    "    if xr - xl < 0:\n",
    "        return (interpolate_R(x2) + interpolate_R(x1))/2*(x2-x1)\n",
    "    \n",
    "    integral = (interpolate_R(xl)+interpolate_R(x1))/2*(xl-x1)\n",
    "    \n",
    "    i = 0\n",
    "    while(xl + i*5 - xr < - 0.00001):\n",
    "        integral += (interpolate_R(xl+i*5)+interpolate_R(xl+i*5+5))/2*5\n",
    "        i += 1\n",
    "        \n",
    "    integral += (interpolate_R(xr)+interpolate_R(x2))/2*(x2-xr)\n",
    "    \n",
    "    return integral\n",
    "\n",
    "\n",
    "integrate_angels(-2.6, 169.9999)"
   ]
  },
  {
   "cell_type": "code",
   "execution_count": 105,
   "metadata": {},
   "outputs": [],
   "source": [
    "from math import *\n",
    "\n",
    "D_up = 13.5\n",
    "D_down = 12.8\n",
    "L = 100\n",
    "\n",
    "def theta1(d):\n",
    "    return atan(D_up/(2*(L + d)))*180/np.pi\n",
    "\n",
    "def theta2(d):\n",
    "    if d  < 0.0001:\n",
    "        return 90\n",
    "    return atan(D_down/(2*d))*180/np.pi\n"
   ]
  },
  {
   "cell_type": "code",
   "execution_count": 106,
   "metadata": {},
   "outputs": [
    {
     "data": {
      "text/plain": [
       "[<matplotlib.lines.Line2D at 0xf060e50>]"
      ]
     },
     "execution_count": 106,
     "metadata": {},
     "output_type": "execute_result"
    },
    {
     "data": {
      "image/png": "[encoded data removed]",
      "text/plain": [
       "<Figure size 432x288 with 1 Axes>"
      ]
     },
     "metadata": {
      "needs_background": "light"
     },
     "output_type": "display_data"
    }
   ],
   "source": [
    "d = [i for i in range(40)]\n",
    "U = [integrate_angels(theta1(i), theta2(i)) for i in range(40)]\n",
    "\n",
    "plt.plot(d, U)"
   ]
  },
  {
   "cell_type": "markdown",
   "metadata": {},
   "source": [
    "# Верхняя сфера готова"
   ]
  },
  {
   "cell_type": "code",
   "execution_count": 107,
   "metadata": {},
   "outputs": [],
   "source": [
    "def theta1_d(d):\n",
    "    if d  < 0.0001:\n",
    "        return 90\n",
    "    return 180 - atan(D_up/(2*(d)))*180/np.pi\n",
    "\n",
    "def theta2_d(d):\n",
    "    if atan(D_down/(2*(L+d)))*180/np.pi < 9.999:\n",
    "        return 169.999\n",
    "    return 180 - atan(D_down/(2*(L+d)))*180/np.pi\n"
   ]
  },
  {
   "cell_type": "code",
   "execution_count": 109,
   "metadata": {},
   "outputs": [
    {
     "data": {
      "text/plain": [
       "[<matplotlib.lines.Line2D at 0xf0a6a90>]"
      ]
     },
     "execution_count": 109,
     "metadata": {},
     "output_type": "execute_result"
    },
    {
     "data": {
      "image/png": "[encoded data removed]",
      "text/plain": [
       "<Figure size 432x288 with 1 Axes>"
      ]
     },
     "metadata": {
      "needs_background": "light"
     },
     "output_type": "display_data"
    }
   ],
   "source": [
    "U_bot = [integrate_angels(theta1_d(i), theta2_d(i)) for i in range(40)]\n",
    "\n",
    "plt.plot(d, U_bot)"
   ]
  },
  {
   "cell_type": "markdown",
   "metadata": {},
   "source": [
    "# Нижняя сфера готова"
   ]
  },
  {
   "cell_type": "code",
   "execution_count": null,
   "metadata": {},
   "outputs": [],
   "source": []
  }
 ],
 "metadata": {
  "kernelspec": {
   "display_name": "Python 3",
   "language": "python",
   "name": "python3"
  },
  "language_info": {
   "codemirror_mode": {
    "name": "ipython",
    "version": 3
   },
   "file_extension": ".py",
   "mimetype": "text/x-python",
   "name": "python",
   "nbconvert_exporter": "python",
   "pygments_lexer": "ipython3",
   "version": "3.9.2"
  }
 },
 "nbformat": 4,
 "nbformat_minor": 2
}
